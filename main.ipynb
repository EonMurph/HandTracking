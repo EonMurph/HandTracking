{
 "cells": [
  {
   "cell_type": "markdown",
   "id": "b7cccd75",
   "metadata": {},
   "source": [
    "# Hand Tracking\n"
   ]
  },
  {
   "cell_type": "code",
   "execution_count": null,
   "id": "68c56c45",
   "metadata": {},
   "outputs": [],
   "source": [
    "from time import time\n",
    "from math import dist\n",
    "\n",
    "import cv2 as cv\n",
    "import mediapipe as mp"
   ]
  },
  {
   "cell_type": "code",
   "execution_count": 19,
   "id": "df3e9383",
   "metadata": {},
   "outputs": [],
   "source": [
    "def get_length(p1, p2):\n",
    "    return dist(p1, p2)"
   ]
  },
  {
   "cell_type": "code",
   "execution_count": 48,
   "id": "b36908d1",
   "metadata": {},
   "outputs": [],
   "source": [
    "def get_point(point, w, h):\n",
    "    return int(point.x * w), int(point.y * h)"
   ]
  },
  {
   "cell_type": "code",
   "execution_count": null,
   "id": "1b97b434",
   "metadata": {},
   "outputs": [
    {
     "name": "stderr",
     "output_type": "stream",
     "text": [
      "I0000 00:00:1755440611.424047 1714425 gl_context.cc:357] GL version: 2.1 (2.1 Metal - 89.4), renderer: Apple M4 Pro\n",
      "W0000 00:00:1755440611.427600 1984432 inference_feedback_manager.cc:114] Feedback manager requires a model with a single signature inference. Disabling support for feedback tensors.\n",
      "W0000 00:00:1755440611.430701 1984432 inference_feedback_manager.cc:114] Feedback manager requires a model with a single signature inference. Disabling support for feedback tensors.\n",
      "/Users/eonmurph/Coding/Python/Projects/HandTracking/.venv/lib/python3.12/site-packages/google/protobuf/symbol_database.py:55: UserWarning: SymbolDatabase.GetPrototype() is deprecated. Please use message_factory.GetMessageClass() instead. SymbolDatabase.GetPrototype() will be removed soon.\n",
      "  warnings.warn('SymbolDatabase.GetPrototype() is deprecated. Please '\n"
     ]
    }
   ],
   "source": [
    "handSolution = mp.solutions.hands\n",
    "hands = handSolution.Hands()\n",
    "\n",
    "videoCap = cv.VideoCapture(0)\n",
    "# cv.startWindowThread()\n",
    "last_frame_time = 0\n",
    "\n",
    "while True:\n",
    "    success, img = videoCap.read()\n",
    "    if success:\n",
    "        # Flip the image horizontally for a selfie-view display.\n",
    "        img = cv.flip(img, 1)\n",
    "        img_rgb = cv.cvtColor(img, cv.COLOR_BGR2RGB)\n",
    "\n",
    "        this_frame_time = time()\n",
    "        fps = 1 / (this_frame_time - last_frame_time)\n",
    "        last_frame_time = this_frame_time\n",
    "        cv.putText(\n",
    "            img,\n",
    "            f\"FPS: {int(fps)}\",\n",
    "            (20, 70),\n",
    "            cv.FONT_HERSHEY_SIMPLEX,\n",
    "            1,\n",
    "            (0, 255, 0),\n",
    "            2,\n",
    "        )\n",
    "        hand_tracking_results = hands.process(img)\n",
    "        if hand_tracking_results.multi_hand_landmarks:\n",
    "            for hand in hand_tracking_results.multi_hand_landmarks:\n",
    "                thumb_point = hand.landmark[4]\n",
    "                index_point = hand.landmark[8]\n",
    "                h, w, c = img.shape\n",
    "                thumb_x, thumb_y = get_point(thumb_point, w, h)\n",
    "                index_x, index_y = get_point(index_point, w, h)\n",
    "                for datapoint_id, point in enumerate(hand.landmark):\n",
    "                    if datapoint_id not in [1, 4, 5, 8, 9, 12, 13, 16, 17, 20]:\n",
    "                        continue\n",
    "                    x, y = get_point(point, w, h)\n",
    "                    cv.circle(img, (x, y), 10, (255, 0, 255), cv.FILLED)\n",
    "                    cv.line(img, (thumb_x, thumb_y), (index_x, index_y), (0, 255, 0), 2)\n",
    "                    cv.putText(\n",
    "                        img,\n",
    "                        str(get_length((thumb_x, thumb_y), (index_x, index_y))),\n",
    "                        (thumb_x, thumb_y),\n",
    "                        cv.FONT_HERSHEY_SIMPLEX,\n",
    "                        1,\n",
    "                        (0, 255, 0),\n",
    "                        2,\n",
    "                    )\n",
    "                    # if datapoint_id % 2 != 0:\n",
    "                    # if datapoint_id <= 17:\n",
    "                    #     next_point = hand.landmark[datapoint_id + 3]\n",
    "                    # else:\n",
    "                    #     next_point = point\n",
    "                    # cv.line(img, (x, y), (int(next_point.x * w), int(next_point.y * h)), (0, 255, 0), 2)\n",
    "                    # cv.putText(img, f'{x}, {y}', (x, y), cv.FONT_HERSHEY_SIMPLEX, 1, (0, 255, 0), 2)\n",
    "        cv.imshow(\"CamOutput\", img)\n",
    "        if (cv.waitKey(25) & 0xFF) == ord(\"q\"):\n",
    "            cv.destroyAllWindows()\n",
    "            cv.waitKey(1)\n",
    "            break"
   ]
  }
 ],
 "metadata": {
  "kernelspec": {
   "display_name": "handtracking",
   "language": "python",
   "name": "python3"
  },
  "language_info": {
   "codemirror_mode": {
    "name": "ipython",
    "version": 3
   },
   "file_extension": ".py",
   "mimetype": "text/x-python",
   "name": "python",
   "nbconvert_exporter": "python",
   "pygments_lexer": "ipython3",
   "version": "3.12.11"
  }
 },
 "nbformat": 4,
 "nbformat_minor": 5
}
